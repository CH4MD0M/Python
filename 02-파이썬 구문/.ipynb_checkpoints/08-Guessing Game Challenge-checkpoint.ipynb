{
 "cells": [
  {
   "cell_type": "markdown",
   "metadata": {},
   "source": [
    "___\n",
    "\n",
    "<a href='https://www.udemy.com/user/joseportilla/'><img src='../Pierian_Data_Logo.png'/></a>\n",
    "___\n",
    "<center><em>Content Copyright by Pierian Data</em></center>"
   ]
  },
  {
   "cell_type": "markdown",
   "metadata": {},
   "source": [
    "# Guessing Game Challenge\n",
    "\n",
    "Let's use `while` loops to create a guessing game.\n",
    "\n",
    "The Challenge:\n",
    "\n",
    "Write a program that picks a random integer from 1 to 100, and has players guess the number. The rules are:\n",
    "\n",
    "1. If a player's guess is less than 1 or greater than 100, say \"OUT OF BOUNDS\"\n",
    "2. On a player's first turn, if their guess is\n",
    " * within 10 of the number, return \"WARM!\"\n",
    " * further than 10 away from the number, return \"COLD!\"\n",
    "3. On all subsequent turns, if a guess is \n",
    " * closer to the number than the previous guess return \"WARMER!\"\n",
    " * farther from the number than the previous guess, return \"COLDER!\"\n",
    "4. When the player's guess equals the number, tell them they've guessed correctly *and* how many guesses it took!\n",
    "\n",
    "You can try this from scratch, or follow the steps outlined below. A separate Solution notebook has been provided. Good luck!\n"
   ]
  },
  {
   "cell_type": "markdown",
   "metadata": {},
   "source": [
    "#### First, pick a random integer from 1 to 100 using the random module and assign it to a variable\n",
    "\n",
    "Note: `random.randint(a,b)` returns a random integer in range `[a, b]`, including both end points."
   ]
  },
  {
   "cell_type": "code",
   "execution_count": 1,
   "metadata": {},
   "outputs": [],
   "source": [
    "import random\n",
    "num = random.randint(1,100)"
   ]
  },
  {
   "cell_type": "markdown",
   "metadata": {},
   "source": [
    "#### Next, print an introduction to the game and explain the rules"
   ]
  },
  {
   "cell_type": "markdown",
   "metadata": {
    "collapsed": true
   },
   "source": [
    "- 플레이어의 추측이 1보다 작거나 100보다 크면 \"Out Of Bounds\"라고 말합니다.\n",
    "- 선수의 첫 번째 턴에서, 만약 그들의 추측이 번호의 10 이내에서 \"Warm!\"을 반환합니다.\n",
    "- 번호에서 10 이상 떨어진 곳에서 \"COLD!\"를 반환하십시오.\n",
    "- 모든 다음 차례에 걸쳐, 추측할 수 있는 경우 이전 추측보다 숫자에 더 근접한 경우 \"WERMER!\" 이전 추측보다 더 멀리 떨어진 숫자에서 \"COLDER!\"를 반환합니다.\n",
    "- 플레이어의 추측이 숫자와 같다면, 그들이 정확하게 추측했고 얼마나 많은 추측이 필요했는지를 말하세요!"
   ]
  },
  {
   "cell_type": "markdown",
   "metadata": {},
   "source": [
    "#### Create a list to store guesses\n",
    "\n",
    "Hint: zero is a good placeholder value. It's useful because it evaluates to \"False\""
   ]
  },
  {
   "cell_type": "code",
   "execution_count": 2,
   "metadata": {},
   "outputs": [],
   "source": [
    "guesses=[0]"
   ]
  },
  {
   "cell_type": "markdown",
   "metadata": {},
   "source": [
    "#### Write a `while` loop that asks for a valid guess. Test it a few times to make sure it works."
   ]
  },
  {
   "cell_type": "code",
   "execution_count": null,
   "metadata": {},
   "outputs": [],
   "source": [
    "while True:\n",
    "    guess = int(input('저는 1에서 100 사이의 숫자를 입력하세요.'))\n",
    "    \n",
    "    if(guess<1 or 100<guess):\n",
    "        print('Out of Bounds! 다시 시도하세요')\n",
    "        continue\n",
    "        \n",
    "    break"
   ]
  },
  {
   "cell_type": "markdown",
   "metadata": {},
   "source": [
    "#### Write a `while` loop that compares the player's guess to our number. If the player guesses correctly, break from the loop. Otherwise, tell the player if they're warmer or colder, and continue asking for guesses.\n",
    "\n",
    "Some hints:\n",
    "* it may help to sketch out all possible combinations on paper first!\n",
    "* you can use the `abs()` function to find the positive difference between two numbers\n",
    "* if you append all new guesses to the list, then the previous guess is given as `guesses[-2]`"
   ]
  },
  {
   "cell_type": "code",
   "execution_count": 3,
   "metadata": {},
   "outputs": [
    {
     "name": "stdout",
     "output_type": "stream",
     "text": [
      "76\n",
      "저는 1에서 100 사이의 숫자를 입력하세요.75\n",
      "첫번째 턴인데 매우 근접해요!\n",
      "저는 1에서 100 사이의 숫자를 입력하세요.30\n",
      "멀어졌어요\n",
      "저는 1에서 100 사이의 숫자를 입력하세요.40\n",
      "가까워요\n",
      "저는 1에서 100 사이의 숫자를 입력하세요.50\n",
      "가까워요\n",
      "저는 1에서 100 사이의 숫자를 입력하세요.60\n",
      "가까워요\n",
      "저는 1에서 100 사이의 숫자를 입력하세요.70\n",
      "가까워요\n",
      "저는 1에서 100 사이의 숫자를 입력하세요.712\n",
      "Out of Bounds! 다시 시도하세요\n",
      "저는 1에서 100 사이의 숫자를 입력하세요.72\n",
      "가까워요\n",
      "저는 1에서 100 사이의 숫자를 입력하세요.76\n",
      "정답입니다.\n",
      " 8번 만에 맞췄습니다!\n"
     ]
    }
   ],
   "source": [
    "while True:\n",
    "    guess = int(input('저는 1에서 100 사이의 숫자를 입력하세요.'))\n",
    "    \n",
    "    if(guess<1 or 100<guess):\n",
    "        print('Out of Bounds! 다시 시도하세요')\n",
    "        continue\n",
    "        \n",
    "    if guess == num:\n",
    "        print(f'정답입니다.\\n {len(guesses)}번 만에 맞췄습니다!')\n",
    "        \n",
    "        break\n",
    "    guesses.append(guess)\n",
    "\n",
    "    if (len(guesses)>2):\n",
    "        if abs(num-guess)<abs(num-guesses[-2]):\n",
    "            print('가까워요')\n",
    "        else:\n",
    "            print('멀어졌어요')\n",
    "        \n",
    "    else:\n",
    "        if abs(num-guess)<=10:\n",
    "            print('첫번째 턴인데 매우 근접해요!')\n",
    "        else:\n",
    "            print('첫번째 시도는 아쉽네요..')\n",
    "        "
   ]
  },
  {
   "cell_type": "markdown",
   "metadata": {},
   "source": [
    "That's it! You've just programmed your first game!\n",
    "\n",
    "In the next section we'll learn how to turn some of these repetitive actions into *functions* that can be called whenever we need them."
   ]
  },
  {
   "cell_type": "markdown",
   "metadata": {},
   "source": [
    "### Good Job!"
   ]
  }
 ],
 "metadata": {
  "kernelspec": {
   "display_name": "Python 3",
   "language": "python",
   "name": "python3"
  },
  "language_info": {
   "codemirror_mode": {
    "name": "ipython",
    "version": 3
   },
   "file_extension": ".py",
   "mimetype": "text/x-python",
   "name": "python",
   "nbconvert_exporter": "python",
   "pygments_lexer": "ipython3",
   "version": "3.8.5"
  }
 },
 "nbformat": 4,
 "nbformat_minor": 2
}
